{
  "cells": [
    {
      "cell_type": "code",
      "execution_count": null,
      "metadata": {
        "id": "1Bug5VzVu35H"
      },
      "outputs": [],
      "source": [
        "!pip3 install qiskit --quiet"
      ]
    },
    {
      "cell_type": "code",
      "execution_count": null,
      "metadata": {
        "id": "1E3bAUpqvD2u"
      },
      "outputs": [],
      "source": [
        "!pip3 install pylatexenc --quiet"
      ]
    },
    {
      "cell_type": "code",
      "execution_count": null,
      "metadata": {
        "id": "3wMzkWRHvI7Z"
      },
      "outputs": [],
      "source": [
        "!pip3 install kaleidoscope --quiet"
      ]
    },
    {
      "cell_type": "code",
      "execution_count": null,
      "metadata": {
        "id": "kr5Yscaex7NS"
      },
      "outputs": [],
      "source": [
        "!pip3 install git+https://github.com/qiskit-community/qiskit-textbook.git#subdirectory=qiskit-textbook-src --quiet"
      ]
    },
    {
      "cell_type": "code",
      "execution_count": null,
      "metadata": {
        "id": "H2tDdtblqB08"
      },
      "outputs": [],
      "source": [
        "!pip3 install sympy --quiet"
      ]
    },
    {
      "cell_type": "markdown",
      "metadata": {
        "id": "GzSU-V9rvSbR"
      },
      "source": [
        "## Implementing Simon's algorithm\n",
        "Implementation taken from Amazon's \"AWS Quantum Computing Blog\" on the topic \n",
        "\"Exploring Simon’s Algorithm with Daniel Simon\"\n",
        "https://aws.amazon.com/blogs/quantum-computing/simons-algorithm/\n"
      ]
    },
    {
      "cell_type": "code",
      "execution_count": null,
      "metadata": {
        "id": "n2AgV_WJu6_g"
      },
      "outputs": [],
      "source": [
        "from qiskit import *"
      ]
    },
    {
      "cell_type": "code",
      "execution_count": null,
      "metadata": {
        "id": "GbDKXGLrxxM_"
      },
      "outputs": [],
      "source": [
        "from qiskit_textbook.tools import simon_oracle"
      ]
    },
    {
      "cell_type": "code",
      "execution_count": null,
      "metadata": {
        "colab": {
          "base_uri": "https://localhost:8080/"
        },
        "id": "MwVcQaBCvNix",
        "outputId": "e343a5e7-620e-4108-f2a3-436bcf60bde7"
      },
      "outputs": [
        {
          "name": "stdout",
          "output_type": "stream",
          "text": [
            "10\n"
          ]
        }
      ],
      "source": [
        "input_a = input(int())\n",
        "n = len(input_a)"
      ]
    },
    {
      "cell_type": "code",
      "execution_count": null,
      "metadata": {
        "id": "ZU9mPWIWw4J5"
      },
      "outputs": [],
      "source": [
        "%matplotlib inline"
      ]
    },
    {
      "cell_type": "code",
      "execution_count": null,
      "metadata": {
        "colab": {
          "base_uri": "https://localhost:8080/",
          "height": 330
        },
        "id": "x7RkCUPQvu7N",
        "outputId": "69869166-778e-4400-fb4f-e9a941d2c088"
      },
      "outputs": [
        {
          "output_type": "stream",
          "name": "stderr",
          "text": [
            "/usr/local/lib/python3.7/dist-packages/ipykernel_launcher.py:6: DeprecationWarning: The QuantumCircuit.__add__() method is being deprecated.Use the compose() method which is more flexible w.r.t circuit register compatibility.\n",
            "  \n"
          ]
        },
        {
          "output_type": "execute_result",
          "data": {
            "image/png": "[encoded data removed]",
            "text/plain": [
              "<Figure size 869.197x325.08 with 1 Axes>"
            ]
          },
          "metadata": {},
          "execution_count": 36
        }
      ],
      "source": [
        "s_circuit = QuantumCircuit(n*2, n*2)\n",
        "\n",
        "s_circuit.h(range(n))\n",
        "s_circuit.barrier()\n",
        "\n",
        "s_circuit = s_circuit + simon_oracle(input_a)\n",
        "\n",
        "s_circuit.barrier()\n",
        "\n",
        "s_circuit.h(range(n))\n",
        "s_circuit.barrier()\n",
        "\n",
        "\n",
        "s_circuit.measure(range(n*2),range(n*2))\n",
        "s_circuit.barrier()\n",
        "s_circuit.draw(output = 'mpl')\n",
        "\n"
      ]
    },
    {
      "cell_type": "code",
      "execution_count": null,
      "metadata": {
        "colab": {
          "base_uri": "https://localhost:8080/"
        },
        "id": "tCvzxcJv7GKS",
        "outputId": "ef8ce733-5044-405e-de44-e310776fadad"
      },
      "outputs": [
        {
          "output_type": "execute_result",
          "data": {
            "text/plain": [
              "<qiskit.circuit.quantumcircuit.QuantumCircuit at 0x7fb1f3f6edd0>"
            ]
          },
          "metadata": {},
          "execution_count": 37
        }
      ],
      "source": [
        "s_circuit"
      ]
    },
    {
      "cell_type": "code",
      "execution_count": null,
      "metadata": {
        "id": "FkYoDvfnAqYA"
      },
      "outputs": [],
      "source": [
        "from qiskit.tools.visualization import plot_histogram"
      ]
    },
    {
      "cell_type": "code",
      "execution_count": null,
      "metadata": {
        "colab": {
          "base_uri": "https://localhost:8080/",
          "height": 348
        },
        "id": "rjdqhJ4TFk10",
        "outputId": "671094f6-fa76-493d-dc7a-278b39bb2a0d"
      },
      "outputs": [
        {
          "output_type": "execute_result",
          "data": {
            "image/png": "[encoded data removed]",
            "text/plain": [
              "<Figure size 504x360 with 1 Axes>"
            ]
          },
          "metadata": {},
          "execution_count": 39
        }
      ],
      "source": [
        "aer_sim = Aer.get_backend('aer_simulator')\n",
        "qobj = assemble(s_circuit, shots=64)\n",
        "results = aer_sim.run(qobj).result()\n",
        "counts = results.get_counts()\n",
        "plot_histogram(counts)\n",
        "#from qiskit.visualization import array_to_latex\n",
        "#array_to_latex(results, prefix=\"\\\\text{Statevector} = \")"
      ]
    },
    {
      "cell_type": "code",
      "execution_count": null,
      "metadata": {
        "id": "KJOZa2D9-nqV"
      },
      "outputs": [],
      "source": [
        "import matplotlib.pyplot as plt\n"
      ]
    },
    {
      "cell_type": "code",
      "execution_count": null,
      "metadata": {
        "colab": {
          "base_uri": "https://localhost:8080/",
          "height": 285
        },
        "id": "jXwolTGb3zF3",
        "outputId": "c11be699-745e-4ce4-cae8-e61beadea3ba"
      },
      "outputs": [
        {
          "output_type": "display_data",
          "data": {
            "image/png": "[encoded data removed]",
            "text/plain": [
              "<Figure size 432x288 with 1 Axes>"
            ]
          },
          "metadata": {
            "needs_background": "light"
          }
        }
      ],
      "source": [
        "new_results = {}\n",
        "for bitstring, count in counts.items():\n",
        "    # Only keep the outcomes on first n qubits\n",
        "    trunc_bitstring = bitstring[n:]\n",
        "    # Add the count to that of the of truncated bit string\n",
        "    new_results[trunc_bitstring] = new_results.get(trunc_bitstring, 0) + count\n",
        "\n",
        "plt.bar(new_results.keys(), new_results.values())\n",
        "plt.xlabel('bit strings');\n",
        "plt.ylabel('counts');\n",
        "plt.xticks(rotation=70)\n",
        "plt.show()\n"
      ]
    },
    {
      "cell_type": "code",
      "execution_count": null,
      "metadata": {
        "colab": {
          "base_uri": "https://localhost:8080/",
          "height": 348
        },
        "id": "_VsLTME5ARmG",
        "outputId": "291804a7-43b5-41e7-fe5a-40b4b349fd38"
      },
      "outputs": [
        {
          "output_type": "execute_result",
          "data": {
            "image/png": "[encoded data removed]",
            "text/plain": [
              "<Figure size 504x360 with 1 Axes>"
            ]
          },
          "metadata": {},
          "execution_count": 42
        }
      ],
      "source": [
        "backend = Aer.get_backend('qasm_simulator')\n",
        "results = execute(s_circuit, backend=backend, shots = 64).result()\n",
        "counts = results.get_counts()\n",
        "plot_histogram(counts)"
      ]
    },
    {
      "cell_type": "code",
      "execution_count": null,
      "metadata": {
        "id": "lx5Wgz24_LD7",
        "colab": {
          "base_uri": "https://localhost:8080/"
        },
        "outputId": "f4750454-21da-42da-d0df-d5c5d40fb09d"
      },
      "outputs": [
        {
          "output_type": "stream",
          "name": "stderr",
          "text": [
            "configrc.store_credentials:WARNING:2022-02-09 17:29:27,731: Credentials already present. Set overwrite=True to overwrite.\n"
          ]
        }
      ],
      "source": [
        "IBMQ.save_account('8195b6aaf12fd1420ba9ba3bb20f477a8a81edf6c97397dad6e537b89b49f5f10f4fe7aa0b87e02a784be33e523c4933bb36a7beb00864f8ef72e126087b58f5') "
      ]
    },
    {
      "cell_type": "code",
      "execution_count": null,
      "metadata": {
        "colab": {
          "base_uri": "https://localhost:8080/"
        },
        "id": "EQbWYzdPqUMI",
        "outputId": "4720a049-fa27-461b-f936-16ff99f3c776"
      },
      "outputs": [
        {
          "metadata": {
            "tags": null
          },
          "name": "stderr",
          "output_type": "stream",
          "text": [
            "ibmqfactory.load_account:WARNING:2022-02-09 17:29:27,969: Credentials are already in use. The existing account in the session will be replaced.\n"
          ]
        },
        {
          "output_type": "stream",
          "name": "stdout",
          "text": [
            "least busy backend:  ibmq_manila\n",
            "Job Status: job has successfully run\n",
            "Job Status: job has successfully run\n"
          ]
        }
      ],
      "source": [
        "# Load our saved IBMQ accounts and get the least busy backend device with less than or equal to 5 qubits\n",
        "IBMQ.load_account()\n",
        "provider = IBMQ.get_provider(hub='ibm-q')\n",
        "qcomp = provider.get_backend('ibmq_manila')\n",
        "print(\"least busy backend: \", qcomp)\n",
        "\n",
        "# Execute and monitor the job\n",
        "from qiskit.tools.monitor import job_monitor\n",
        "shots = 64\n",
        "job = execute(s_circuit, backend = qcomp, shots=shots)\n",
        "job_monitor(job)\n",
        "job_monitor(job, interval=2)"
      ]
    },
    {
      "cell_type": "code",
      "execution_count": null,
      "metadata": {
        "id": "o32GUmdLrkdO"
      },
      "outputs": [],
      "source": [
        "from sympy import Matrix\n",
        "import matplotlib.pyplot as plt"
      ]
    },
    {
      "cell_type": "code",
      "execution_count": null,
      "metadata": {
        "id": "Bw7J1tu7rI3X",
        "colab": {
          "base_uri": "https://localhost:8080/",
          "height": 295
        },
        "outputId": "4162f52a-6990-446e-a59c-120ff43285b7"
      },
      "outputs": [
        {
          "output_type": "display_data",
          "data": {
            "image/png": "[encoded data removed]",
            "text/plain": [
              "<Figure size 432x288 with 1 Axes>"
            ]
          },
          "metadata": {
            "needs_background": "light"
          }
        }
      ],
      "source": [
        "plt.bar(counts.keys(), counts.values());\n",
        "plt.xlabel('bit strings');\n",
        "plt.ylabel('counts');\n",
        "plt.xticks(rotation=90)\n",
        "plt.show()"
      ]
    },
    {
      "cell_type": "code",
      "execution_count": null,
      "metadata": {
        "id": "7tWACD61v12c"
      },
      "outputs": [],
      "source": [
        ""
      ]
    },
    {
      "cell_type": "code",
      "execution_count": null,
      "metadata": {
        "id": "zS7HupW0qEBf"
      },
      "outputs": [],
      "source": [
        "new_results = {}\n",
        "for bitstring, count in counts.items():\n",
        "    # Only keep the outcomes on first n qubits\n",
        "    \n",
        "    trunc_bitstring = bitstring[n:]\n",
        "    # Add the count to that of the of truncated bit string\n",
        "    new_results[trunc_bitstring] = new_results.get(trunc_bitstring, 0) + count"
      ]
    },
    {
      "cell_type": "code",
      "source": [
        "if len(new_results.keys()) < len(input_a):\n",
        "    raise Exception ('System will be underdetermined. Minimum ' + str(n) + ' bistrings needed, but only '\n",
        "                     + str(len(new_results.keys())) +' returned. Please rerun Simon\\'s algorithm.')\n",
        "string_list = []\n",
        "\n",
        "for key in new_results.keys():\n",
        "#     if key!= \"0\"*n:\n",
        "    string_list.append( [ int(c) for c in key ] )\n",
        "    \n",
        "print('The result in matrix form is :')\n",
        "for a in string_list:\n",
        "    print(a)"
      ],
      "metadata": {
        "id": "HDozA5baVdOW",
        "colab": {
          "base_uri": "https://localhost:8080/"
        },
        "outputId": "bc0dea58-a2ba-47f4-ff84-8773f36ca0a8"
      },
      "execution_count": null,
      "outputs": [
        {
          "output_type": "stream",
          "name": "stdout",
          "text": [
            "The result in matrix form is :\n",
            "[0, 0]\n",
            "[0, 1]\n"
          ]
        }
      ]
    },
    {
      "cell_type": "code",
      "execution_count": null,
      "metadata": {
        "id": "rJan9xUfsiu_"
      },
      "outputs": [],
      "source": [
        "import numpy as np"
      ]
    },
    {
      "cell_type": "code",
      "execution_count": null,
      "metadata": {
        "id": "onk2M9J4qD1y",
        "colab": {
          "base_uri": "https://localhost:8080/"
        },
        "outputId": "3dd4dda2-31fc-4652-a585-8fd8ccf183a7"
      },
      "outputs": [
        {
          "output_type": "stream",
          "name": "stdout",
          "text": [
            "Matrix([[0, 0, 1, 0], [0, 1, 0, 1]])\n"
          ]
        }
      ],
      "source": [
        "M=Matrix(string_list).T\n",
        "# Construct the agumented matrix\n",
        "M_I = Matrix(np.hstack([M,np.eye(M.shape[0],dtype=int)]))\n",
        "\n",
        "# Perform row reduction, working modulo 2. We use the iszerofunc property of rref\n",
        "# to perform the Gaussian elimination over the finite field.\n",
        "M_I_rref = M_I.rref(iszerofunc=lambda x: x % 2==0)\n",
        "\n",
        "\n",
        "# In row reduced echelon form, we can end up with a solution outside of the finite field {0,1}.\n",
        "# Thus, we need to revert the matrix back to this field by treating fractions as a modular inverse.\n",
        "# Since the denominator will always be odd (i.e. 1 mod 2), it can be ignored.\n",
        "\n",
        "# Helper function to treat fractions as modular inverse:\n",
        "print(M_I)"
      ]
    },
    {
      "cell_type": "code",
      "source": [
        "s = input_a"
      ],
      "metadata": {
        "id": "_kepswLNckhk"
      },
      "execution_count": null,
      "outputs": []
    },
    {
      "cell_type": "code",
      "execution_count": null,
      "metadata": {
        "id": "rEXviMItqDw_",
        "colab": {
          "base_uri": "https://localhost:8080/"
        },
        "outputId": "7cdea4a4-0786-438a-ed77-070d0c19b0fb"
      },
      "outputs": [
        {
          "output_type": "stream",
          "name": "stdout",
          "text": [
            "Secret string: 10\n",
            "Result string: 10\n",
            "We found the correct answer.\n"
          ]
        }
      ],
      "source": [
        "def mod2(x):\n",
        "  return x.as_numer_denom()[0] % 2\n",
        "\n",
        "# Apply our helper function to the matrix\n",
        "M_I_final = M_I_rref[0].applyfunc(mod2)\n",
        "\n",
        "# Extract the kernel of M from the remaining columns of the last row, when s is nonzero.\n",
        "if all(value == 0 for value in M_I_final[-1,:M.shape[1]]):\n",
        "  result_s=\"\".join(str(c) for c in M_I_final[-1,M.shape[1]:])\n",
        "\n",
        "# Otherwise, the sub-matrix will be full rank, so just set s=0...0\n",
        "else:\n",
        "  result_s='0'*M.shape[0]\n",
        "\n",
        "# Check whether result_s is equal to initial s:\n",
        "print('Secret string: ' + s)\n",
        "print('Result string: ' + result_s)\n",
        "if (result_s == s):\n",
        "  print('We found the correct answer.')\n",
        "else:\n",
        "  print('Error. The answer is wrong!')"
      ]
    }
  ],
  "metadata": {
    "colab": {
      "name": "Simons-algo.ipynb",
      "provenance": [],
      "collapsed_sections": []
    },
    "kernelspec": {
      "display_name": "Python 3",
      "name": "python3"
    },
    "language_info": {
      "name": "python"
    }
  },
  "nbformat": 4,
  "nbformat_minor": 0
}